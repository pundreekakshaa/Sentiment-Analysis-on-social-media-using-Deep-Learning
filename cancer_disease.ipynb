{
  "nbformat": 4,
  "nbformat_minor": 0,
  "metadata": {
    "colab": {
      "provenance": []
    },
    "kernelspec": {
      "name": "python3",
      "display_name": "Python 3"
    },
    "language_info": {
      "name": "python"
    }
  },
  "cells": [
    {
      "cell_type": "code",
      "execution_count": null,
      "metadata": {
        "id": "jYSCuAaBtvJw"
      },
      "outputs": [],
      "source": [
        "from google.colab import drive"
      ]
    },
    {
      "cell_type": "code",
      "source": [
        "from google.colab import drive\n",
        "drive.mount('/content/drive')"
      ],
      "metadata": {
        "colab": {
          "base_uri": "https://localhost:8080/"
        },
        "id": "t4NZLOs1vW7o",
        "outputId": "31c69e20-644c-4960-ea62-39fb70ce1891"
      },
      "execution_count": null,
      "outputs": [
        {
          "output_type": "stream",
          "name": "stdout",
          "text": [
            "Mounted at /content/drive\n"
          ]
        }
      ]
    },
    {
      "cell_type": "code",
      "source": [
        "import pandas as pd"
      ],
      "metadata": {
        "id": "D3PCHUx9xFCJ"
      },
      "execution_count": null,
      "outputs": []
    },
    {
      "cell_type": "code",
      "source": [
        "df=pd.read_csv('/content/drive/MyDrive/data/cancer_disease.csv')"
      ],
      "metadata": {
        "id": "NiKgXMa_wx7i"
      },
      "execution_count": null,
      "outputs": []
    },
    {
      "cell_type": "code",
      "source": [
        "df"
      ],
      "metadata": {
        "colab": {
          "base_uri": "https://localhost:8080/",
          "height": 487
        },
        "id": "i8z5cRVoxOvJ",
        "outputId": "e35758ec-0776-4372-cb9d-0807aae01807"
      },
      "execution_count": null,
      "outputs": [
        {
          "output_type": "execute_result",
          "data": {
            "text/plain": [
              "    sample_id patient_cohort sample_origin  age sex  diagnosis stage  \\\n",
              "0          S1        Cohort1          BPTB   33   F          1   NaN   \n",
              "1         S10        Cohort1          BPTB   81   F          1   NaN   \n",
              "2        S100        Cohort2          BPTB   51   M          1   NaN   \n",
              "3        S101        Cohort2          BPTB   61   M          1   NaN   \n",
              "4        S102        Cohort2          BPTB   62   M          1   NaN   \n",
              "..        ...            ...           ...  ...  ..        ...   ...   \n",
              "585      S549        Cohort2          BPTB   68   M          3    IV   \n",
              "586      S558        Cohort2          BPTB   71   F          3    IV   \n",
              "587      S560        Cohort2          BPTB   63   M          3    IV   \n",
              "588      S583        Cohort2          BPTB   75   F          3    IV   \n",
              "589      S590        Cohort1          BPTB   74   M          3    IV   \n",
              "\n",
              "    benign_sample_diagnosis  plasma_CA19_9  creatinine     LYVE1       REG1B  \\\n",
              "0                       NaN           11.7     1.83222  0.893219   52.948840   \n",
              "1                       NaN            NaN     0.97266  2.037585   94.467030   \n",
              "2                       NaN            7.0     0.78039  0.145589  102.366000   \n",
              "3                       NaN            8.0     0.70122  0.002805   60.579000   \n",
              "4                       NaN            9.0     0.21489  0.000860   65.540000   \n",
              "..                      ...            ...         ...       ...         ...   \n",
              "585                     NaN            NaN     0.52026  7.058209  156.241000   \n",
              "586                     NaN            NaN     0.85956  8.341207   16.915000   \n",
              "587                     NaN            NaN     1.36851  7.674707  289.701000   \n",
              "588                     NaN            NaN     1.33458  8.206777  205.930000   \n",
              "589                     NaN         1488.0     1.50423  8.200958  411.938275   \n",
              "\n",
              "            TFF1      REG1A  \n",
              "0     654.282174   1262.000  \n",
              "1     209.488250    228.407  \n",
              "2     461.141000        NaN  \n",
              "3     142.950000        NaN  \n",
              "4      41.088000        NaN  \n",
              "..           ...        ...  \n",
              "585   525.178000        NaN  \n",
              "586   245.947000        NaN  \n",
              "587   537.286000        NaN  \n",
              "588   722.523000        NaN  \n",
              "589  2021.321078  13200.000  \n",
              "\n",
              "[590 rows x 14 columns]"
            ],
            "text/html": [
              "\n",
              "  <div id=\"df-5d3fe2be-e822-4e0f-8145-2fb32f19ce5a\">\n",
              "    <div class=\"colab-df-container\">\n",
              "      <div>\n",
              "<style scoped>\n",
              "    .dataframe tbody tr th:only-of-type {\n",
              "        vertical-align: middle;\n",
              "    }\n",
              "\n",
              "    .dataframe tbody tr th {\n",
              "        vertical-align: top;\n",
              "    }\n",
              "\n",
              "    .dataframe thead th {\n",
              "        text-align: right;\n",
              "    }\n",
              "</style>\n",
              "<table border=\"1\" class=\"dataframe\">\n",
              "  <thead>\n",
              "    <tr style=\"text-align: right;\">\n",
              "      <th></th>\n",
              "      <th>sample_id</th>\n",
              "      <th>patient_cohort</th>\n",
              "      <th>sample_origin</th>\n",
              "      <th>age</th>\n",
              "      <th>sex</th>\n",
              "      <th>diagnosis</th>\n",
              "      <th>stage</th>\n",
              "      <th>benign_sample_diagnosis</th>\n",
              "      <th>plasma_CA19_9</th>\n",
              "      <th>creatinine</th>\n",
              "      <th>LYVE1</th>\n",
              "      <th>REG1B</th>\n",
              "      <th>TFF1</th>\n",
              "      <th>REG1A</th>\n",
              "    </tr>\n",
              "  </thead>\n",
              "  <tbody>\n",
              "    <tr>\n",
              "      <th>0</th>\n",
              "      <td>S1</td>\n",
              "      <td>Cohort1</td>\n",
              "      <td>BPTB</td>\n",
              "      <td>33</td>\n",
              "      <td>F</td>\n",
              "      <td>1</td>\n",
              "      <td>NaN</td>\n",
              "      <td>NaN</td>\n",
              "      <td>11.7</td>\n",
              "      <td>1.83222</td>\n",
              "      <td>0.893219</td>\n",
              "      <td>52.948840</td>\n",
              "      <td>654.282174</td>\n",
              "      <td>1262.000</td>\n",
              "    </tr>\n",
              "    <tr>\n",
              "      <th>1</th>\n",
              "      <td>S10</td>\n",
              "      <td>Cohort1</td>\n",
              "      <td>BPTB</td>\n",
              "      <td>81</td>\n",
              "      <td>F</td>\n",
              "      <td>1</td>\n",
              "      <td>NaN</td>\n",
              "      <td>NaN</td>\n",
              "      <td>NaN</td>\n",
              "      <td>0.97266</td>\n",
              "      <td>2.037585</td>\n",
              "      <td>94.467030</td>\n",
              "      <td>209.488250</td>\n",
              "      <td>228.407</td>\n",
              "    </tr>\n",
              "    <tr>\n",
              "      <th>2</th>\n",
              "      <td>S100</td>\n",
              "      <td>Cohort2</td>\n",
              "      <td>BPTB</td>\n",
              "      <td>51</td>\n",
              "      <td>M</td>\n",
              "      <td>1</td>\n",
              "      <td>NaN</td>\n",
              "      <td>NaN</td>\n",
              "      <td>7.0</td>\n",
              "      <td>0.78039</td>\n",
              "      <td>0.145589</td>\n",
              "      <td>102.366000</td>\n",
              "      <td>461.141000</td>\n",
              "      <td>NaN</td>\n",
              "    </tr>\n",
              "    <tr>\n",
              "      <th>3</th>\n",
              "      <td>S101</td>\n",
              "      <td>Cohort2</td>\n",
              "      <td>BPTB</td>\n",
              "      <td>61</td>\n",
              "      <td>M</td>\n",
              "      <td>1</td>\n",
              "      <td>NaN</td>\n",
              "      <td>NaN</td>\n",
              "      <td>8.0</td>\n",
              "      <td>0.70122</td>\n",
              "      <td>0.002805</td>\n",
              "      <td>60.579000</td>\n",
              "      <td>142.950000</td>\n",
              "      <td>NaN</td>\n",
              "    </tr>\n",
              "    <tr>\n",
              "      <th>4</th>\n",
              "      <td>S102</td>\n",
              "      <td>Cohort2</td>\n",
              "      <td>BPTB</td>\n",
              "      <td>62</td>\n",
              "      <td>M</td>\n",
              "      <td>1</td>\n",
              "      <td>NaN</td>\n",
              "      <td>NaN</td>\n",
              "      <td>9.0</td>\n",
              "      <td>0.21489</td>\n",
              "      <td>0.000860</td>\n",
              "      <td>65.540000</td>\n",
              "      <td>41.088000</td>\n",
              "      <td>NaN</td>\n",
              "    </tr>\n",
              "    <tr>\n",
              "      <th>...</th>\n",
              "      <td>...</td>\n",
              "      <td>...</td>\n",
              "      <td>...</td>\n",
              "      <td>...</td>\n",
              "      <td>...</td>\n",
              "      <td>...</td>\n",
              "      <td>...</td>\n",
              "      <td>...</td>\n",
              "      <td>...</td>\n",
              "      <td>...</td>\n",
              "      <td>...</td>\n",
              "      <td>...</td>\n",
              "      <td>...</td>\n",
              "      <td>...</td>\n",
              "    </tr>\n",
              "    <tr>\n",
              "      <th>585</th>\n",
              "      <td>S549</td>\n",
              "      <td>Cohort2</td>\n",
              "      <td>BPTB</td>\n",
              "      <td>68</td>\n",
              "      <td>M</td>\n",
              "      <td>3</td>\n",
              "      <td>IV</td>\n",
              "      <td>NaN</td>\n",
              "      <td>NaN</td>\n",
              "      <td>0.52026</td>\n",
              "      <td>7.058209</td>\n",
              "      <td>156.241000</td>\n",
              "      <td>525.178000</td>\n",
              "      <td>NaN</td>\n",
              "    </tr>\n",
              "    <tr>\n",
              "      <th>586</th>\n",
              "      <td>S558</td>\n",
              "      <td>Cohort2</td>\n",
              "      <td>BPTB</td>\n",
              "      <td>71</td>\n",
              "      <td>F</td>\n",
              "      <td>3</td>\n",
              "      <td>IV</td>\n",
              "      <td>NaN</td>\n",
              "      <td>NaN</td>\n",
              "      <td>0.85956</td>\n",
              "      <td>8.341207</td>\n",
              "      <td>16.915000</td>\n",
              "      <td>245.947000</td>\n",
              "      <td>NaN</td>\n",
              "    </tr>\n",
              "    <tr>\n",
              "      <th>587</th>\n",
              "      <td>S560</td>\n",
              "      <td>Cohort2</td>\n",
              "      <td>BPTB</td>\n",
              "      <td>63</td>\n",
              "      <td>M</td>\n",
              "      <td>3</td>\n",
              "      <td>IV</td>\n",
              "      <td>NaN</td>\n",
              "      <td>NaN</td>\n",
              "      <td>1.36851</td>\n",
              "      <td>7.674707</td>\n",
              "      <td>289.701000</td>\n",
              "      <td>537.286000</td>\n",
              "      <td>NaN</td>\n",
              "    </tr>\n",
              "    <tr>\n",
              "      <th>588</th>\n",
              "      <td>S583</td>\n",
              "      <td>Cohort2</td>\n",
              "      <td>BPTB</td>\n",
              "      <td>75</td>\n",
              "      <td>F</td>\n",
              "      <td>3</td>\n",
              "      <td>IV</td>\n",
              "      <td>NaN</td>\n",
              "      <td>NaN</td>\n",
              "      <td>1.33458</td>\n",
              "      <td>8.206777</td>\n",
              "      <td>205.930000</td>\n",
              "      <td>722.523000</td>\n",
              "      <td>NaN</td>\n",
              "    </tr>\n",
              "    <tr>\n",
              "      <th>589</th>\n",
              "      <td>S590</td>\n",
              "      <td>Cohort1</td>\n",
              "      <td>BPTB</td>\n",
              "      <td>74</td>\n",
              "      <td>M</td>\n",
              "      <td>3</td>\n",
              "      <td>IV</td>\n",
              "      <td>NaN</td>\n",
              "      <td>1488.0</td>\n",
              "      <td>1.50423</td>\n",
              "      <td>8.200958</td>\n",
              "      <td>411.938275</td>\n",
              "      <td>2021.321078</td>\n",
              "      <td>13200.000</td>\n",
              "    </tr>\n",
              "  </tbody>\n",
              "</table>\n",
              "<p>590 rows × 14 columns</p>\n",
              "</div>\n",
              "      <button class=\"colab-df-convert\" onclick=\"convertToInteractive('df-5d3fe2be-e822-4e0f-8145-2fb32f19ce5a')\"\n",
              "              title=\"Convert this dataframe to an interactive table.\"\n",
              "              style=\"display:none;\">\n",
              "        \n",
              "  <svg xmlns=\"http://www.w3.org/2000/svg\" height=\"24px\"viewBox=\"0 0 24 24\"\n",
              "       width=\"24px\">\n",
              "    <path d=\"M0 0h24v24H0V0z\" fill=\"none\"/>\n",
              "    <path d=\"M18.56 5.44l.94 2.06.94-2.06 2.06-.94-2.06-.94-.94-2.06-.94 2.06-2.06.94zm-11 1L8.5 8.5l.94-2.06 2.06-.94-2.06-.94L8.5 2.5l-.94 2.06-2.06.94zm10 10l.94 2.06.94-2.06 2.06-.94-2.06-.94-.94-2.06-.94 2.06-2.06.94z\"/><path d=\"M17.41 7.96l-1.37-1.37c-.4-.4-.92-.59-1.43-.59-.52 0-1.04.2-1.43.59L10.3 9.45l-7.72 7.72c-.78.78-.78 2.05 0 2.83L4 21.41c.39.39.9.59 1.41.59.51 0 1.02-.2 1.41-.59l7.78-7.78 2.81-2.81c.8-.78.8-2.07 0-2.86zM5.41 20L4 18.59l7.72-7.72 1.47 1.35L5.41 20z\"/>\n",
              "  </svg>\n",
              "      </button>\n",
              "      \n",
              "  <style>\n",
              "    .colab-df-container {\n",
              "      display:flex;\n",
              "      flex-wrap:wrap;\n",
              "      gap: 12px;\n",
              "    }\n",
              "\n",
              "    .colab-df-convert {\n",
              "      background-color: #E8F0FE;\n",
              "      border: none;\n",
              "      border-radius: 50%;\n",
              "      cursor: pointer;\n",
              "      display: none;\n",
              "      fill: #1967D2;\n",
              "      height: 32px;\n",
              "      padding: 0 0 0 0;\n",
              "      width: 32px;\n",
              "    }\n",
              "\n",
              "    .colab-df-convert:hover {\n",
              "      background-color: #E2EBFA;\n",
              "      box-shadow: 0px 1px 2px rgba(60, 64, 67, 0.3), 0px 1px 3px 1px rgba(60, 64, 67, 0.15);\n",
              "      fill: #174EA6;\n",
              "    }\n",
              "\n",
              "    [theme=dark] .colab-df-convert {\n",
              "      background-color: #3B4455;\n",
              "      fill: #D2E3FC;\n",
              "    }\n",
              "\n",
              "    [theme=dark] .colab-df-convert:hover {\n",
              "      background-color: #434B5C;\n",
              "      box-shadow: 0px 1px 3px 1px rgba(0, 0, 0, 0.15);\n",
              "      filter: drop-shadow(0px 1px 2px rgba(0, 0, 0, 0.3));\n",
              "      fill: #FFFFFF;\n",
              "    }\n",
              "  </style>\n",
              "\n",
              "      <script>\n",
              "        const buttonEl =\n",
              "          document.querySelector('#df-5d3fe2be-e822-4e0f-8145-2fb32f19ce5a button.colab-df-convert');\n",
              "        buttonEl.style.display =\n",
              "          google.colab.kernel.accessAllowed ? 'block' : 'none';\n",
              "\n",
              "        async function convertToInteractive(key) {\n",
              "          const element = document.querySelector('#df-5d3fe2be-e822-4e0f-8145-2fb32f19ce5a');\n",
              "          const dataTable =\n",
              "            await google.colab.kernel.invokeFunction('convertToInteractive',\n",
              "                                                     [key], {});\n",
              "          if (!dataTable) return;\n",
              "\n",
              "          const docLinkHtml = 'Like what you see? Visit the ' +\n",
              "            '<a target=\"_blank\" href=https://colab.research.google.com/notebooks/data_table.ipynb>data table notebook</a>'\n",
              "            + ' to learn more about interactive tables.';\n",
              "          element.innerHTML = '';\n",
              "          dataTable['output_type'] = 'display_data';\n",
              "          await google.colab.output.renderOutput(dataTable, element);\n",
              "          const docLink = document.createElement('div');\n",
              "          docLink.innerHTML = docLinkHtml;\n",
              "          element.appendChild(docLink);\n",
              "        }\n",
              "      </script>\n",
              "    </div>\n",
              "  </div>\n",
              "  "
            ]
          },
          "metadata": {},
          "execution_count": 10
        }
      ]
    },
    {
      "cell_type": "code",
      "source": [
        "df.head()"
      ],
      "metadata": {
        "colab": {
          "base_uri": "https://localhost:8080/",
          "height": 270
        },
        "id": "VQyFqX8uxVON",
        "outputId": "5b296557-d6d3-4e77-ab67-02f756f6c6f5"
      },
      "execution_count": null,
      "outputs": [
        {
          "output_type": "execute_result",
          "data": {
            "text/plain": [
              "  sample_id patient_cohort sample_origin  age sex  diagnosis stage  \\\n",
              "0        S1        Cohort1          BPTB   33   F          1   NaN   \n",
              "1       S10        Cohort1          BPTB   81   F          1   NaN   \n",
              "2      S100        Cohort2          BPTB   51   M          1   NaN   \n",
              "3      S101        Cohort2          BPTB   61   M          1   NaN   \n",
              "4      S102        Cohort2          BPTB   62   M          1   NaN   \n",
              "\n",
              "  benign_sample_diagnosis  plasma_CA19_9  creatinine     LYVE1      REG1B  \\\n",
              "0                     NaN           11.7     1.83222  0.893219   52.94884   \n",
              "1                     NaN            NaN     0.97266  2.037585   94.46703   \n",
              "2                     NaN            7.0     0.78039  0.145589  102.36600   \n",
              "3                     NaN            8.0     0.70122  0.002805   60.57900   \n",
              "4                     NaN            9.0     0.21489  0.000860   65.54000   \n",
              "\n",
              "         TFF1     REG1A  \n",
              "0  654.282174  1262.000  \n",
              "1  209.488250   228.407  \n",
              "2  461.141000       NaN  \n",
              "3  142.950000       NaN  \n",
              "4   41.088000       NaN  "
            ],
            "text/html": [
              "\n",
              "  <div id=\"df-bff45919-774c-4ab3-902a-1b8ec9a5025e\">\n",
              "    <div class=\"colab-df-container\">\n",
              "      <div>\n",
              "<style scoped>\n",
              "    .dataframe tbody tr th:only-of-type {\n",
              "        vertical-align: middle;\n",
              "    }\n",
              "\n",
              "    .dataframe tbody tr th {\n",
              "        vertical-align: top;\n",
              "    }\n",
              "\n",
              "    .dataframe thead th {\n",
              "        text-align: right;\n",
              "    }\n",
              "</style>\n",
              "<table border=\"1\" class=\"dataframe\">\n",
              "  <thead>\n",
              "    <tr style=\"text-align: right;\">\n",
              "      <th></th>\n",
              "      <th>sample_id</th>\n",
              "      <th>patient_cohort</th>\n",
              "      <th>sample_origin</th>\n",
              "      <th>age</th>\n",
              "      <th>sex</th>\n",
              "      <th>diagnosis</th>\n",
              "      <th>stage</th>\n",
              "      <th>benign_sample_diagnosis</th>\n",
              "      <th>plasma_CA19_9</th>\n",
              "      <th>creatinine</th>\n",
              "      <th>LYVE1</th>\n",
              "      <th>REG1B</th>\n",
              "      <th>TFF1</th>\n",
              "      <th>REG1A</th>\n",
              "    </tr>\n",
              "  </thead>\n",
              "  <tbody>\n",
              "    <tr>\n",
              "      <th>0</th>\n",
              "      <td>S1</td>\n",
              "      <td>Cohort1</td>\n",
              "      <td>BPTB</td>\n",
              "      <td>33</td>\n",
              "      <td>F</td>\n",
              "      <td>1</td>\n",
              "      <td>NaN</td>\n",
              "      <td>NaN</td>\n",
              "      <td>11.7</td>\n",
              "      <td>1.83222</td>\n",
              "      <td>0.893219</td>\n",
              "      <td>52.94884</td>\n",
              "      <td>654.282174</td>\n",
              "      <td>1262.000</td>\n",
              "    </tr>\n",
              "    <tr>\n",
              "      <th>1</th>\n",
              "      <td>S10</td>\n",
              "      <td>Cohort1</td>\n",
              "      <td>BPTB</td>\n",
              "      <td>81</td>\n",
              "      <td>F</td>\n",
              "      <td>1</td>\n",
              "      <td>NaN</td>\n",
              "      <td>NaN</td>\n",
              "      <td>NaN</td>\n",
              "      <td>0.97266</td>\n",
              "      <td>2.037585</td>\n",
              "      <td>94.46703</td>\n",
              "      <td>209.488250</td>\n",
              "      <td>228.407</td>\n",
              "    </tr>\n",
              "    <tr>\n",
              "      <th>2</th>\n",
              "      <td>S100</td>\n",
              "      <td>Cohort2</td>\n",
              "      <td>BPTB</td>\n",
              "      <td>51</td>\n",
              "      <td>M</td>\n",
              "      <td>1</td>\n",
              "      <td>NaN</td>\n",
              "      <td>NaN</td>\n",
              "      <td>7.0</td>\n",
              "      <td>0.78039</td>\n",
              "      <td>0.145589</td>\n",
              "      <td>102.36600</td>\n",
              "      <td>461.141000</td>\n",
              "      <td>NaN</td>\n",
              "    </tr>\n",
              "    <tr>\n",
              "      <th>3</th>\n",
              "      <td>S101</td>\n",
              "      <td>Cohort2</td>\n",
              "      <td>BPTB</td>\n",
              "      <td>61</td>\n",
              "      <td>M</td>\n",
              "      <td>1</td>\n",
              "      <td>NaN</td>\n",
              "      <td>NaN</td>\n",
              "      <td>8.0</td>\n",
              "      <td>0.70122</td>\n",
              "      <td>0.002805</td>\n",
              "      <td>60.57900</td>\n",
              "      <td>142.950000</td>\n",
              "      <td>NaN</td>\n",
              "    </tr>\n",
              "    <tr>\n",
              "      <th>4</th>\n",
              "      <td>S102</td>\n",
              "      <td>Cohort2</td>\n",
              "      <td>BPTB</td>\n",
              "      <td>62</td>\n",
              "      <td>M</td>\n",
              "      <td>1</td>\n",
              "      <td>NaN</td>\n",
              "      <td>NaN</td>\n",
              "      <td>9.0</td>\n",
              "      <td>0.21489</td>\n",
              "      <td>0.000860</td>\n",
              "      <td>65.54000</td>\n",
              "      <td>41.088000</td>\n",
              "      <td>NaN</td>\n",
              "    </tr>\n",
              "  </tbody>\n",
              "</table>\n",
              "</div>\n",
              "      <button class=\"colab-df-convert\" onclick=\"convertToInteractive('df-bff45919-774c-4ab3-902a-1b8ec9a5025e')\"\n",
              "              title=\"Convert this dataframe to an interactive table.\"\n",
              "              style=\"display:none;\">\n",
              "        \n",
              "  <svg xmlns=\"http://www.w3.org/2000/svg\" height=\"24px\"viewBox=\"0 0 24 24\"\n",
              "       width=\"24px\">\n",
              "    <path d=\"M0 0h24v24H0V0z\" fill=\"none\"/>\n",
              "    <path d=\"M18.56 5.44l.94 2.06.94-2.06 2.06-.94-2.06-.94-.94-2.06-.94 2.06-2.06.94zm-11 1L8.5 8.5l.94-2.06 2.06-.94-2.06-.94L8.5 2.5l-.94 2.06-2.06.94zm10 10l.94 2.06.94-2.06 2.06-.94-2.06-.94-.94-2.06-.94 2.06-2.06.94z\"/><path d=\"M17.41 7.96l-1.37-1.37c-.4-.4-.92-.59-1.43-.59-.52 0-1.04.2-1.43.59L10.3 9.45l-7.72 7.72c-.78.78-.78 2.05 0 2.83L4 21.41c.39.39.9.59 1.41.59.51 0 1.02-.2 1.41-.59l7.78-7.78 2.81-2.81c.8-.78.8-2.07 0-2.86zM5.41 20L4 18.59l7.72-7.72 1.47 1.35L5.41 20z\"/>\n",
              "  </svg>\n",
              "      </button>\n",
              "      \n",
              "  <style>\n",
              "    .colab-df-container {\n",
              "      display:flex;\n",
              "      flex-wrap:wrap;\n",
              "      gap: 12px;\n",
              "    }\n",
              "\n",
              "    .colab-df-convert {\n",
              "      background-color: #E8F0FE;\n",
              "      border: none;\n",
              "      border-radius: 50%;\n",
              "      cursor: pointer;\n",
              "      display: none;\n",
              "      fill: #1967D2;\n",
              "      height: 32px;\n",
              "      padding: 0 0 0 0;\n",
              "      width: 32px;\n",
              "    }\n",
              "\n",
              "    .colab-df-convert:hover {\n",
              "      background-color: #E2EBFA;\n",
              "      box-shadow: 0px 1px 2px rgba(60, 64, 67, 0.3), 0px 1px 3px 1px rgba(60, 64, 67, 0.15);\n",
              "      fill: #174EA6;\n",
              "    }\n",
              "\n",
              "    [theme=dark] .colab-df-convert {\n",
              "      background-color: #3B4455;\n",
              "      fill: #D2E3FC;\n",
              "    }\n",
              "\n",
              "    [theme=dark] .colab-df-convert:hover {\n",
              "      background-color: #434B5C;\n",
              "      box-shadow: 0px 1px 3px 1px rgba(0, 0, 0, 0.15);\n",
              "      filter: drop-shadow(0px 1px 2px rgba(0, 0, 0, 0.3));\n",
              "      fill: #FFFFFF;\n",
              "    }\n",
              "  </style>\n",
              "\n",
              "      <script>\n",
              "        const buttonEl =\n",
              "          document.querySelector('#df-bff45919-774c-4ab3-902a-1b8ec9a5025e button.colab-df-convert');\n",
              "        buttonEl.style.display =\n",
              "          google.colab.kernel.accessAllowed ? 'block' : 'none';\n",
              "\n",
              "        async function convertToInteractive(key) {\n",
              "          const element = document.querySelector('#df-bff45919-774c-4ab3-902a-1b8ec9a5025e');\n",
              "          const dataTable =\n",
              "            await google.colab.kernel.invokeFunction('convertToInteractive',\n",
              "                                                     [key], {});\n",
              "          if (!dataTable) return;\n",
              "\n",
              "          const docLinkHtml = 'Like what you see? Visit the ' +\n",
              "            '<a target=\"_blank\" href=https://colab.research.google.com/notebooks/data_table.ipynb>data table notebook</a>'\n",
              "            + ' to learn more about interactive tables.';\n",
              "          element.innerHTML = '';\n",
              "          dataTable['output_type'] = 'display_data';\n",
              "          await google.colab.output.renderOutput(dataTable, element);\n",
              "          const docLink = document.createElement('div');\n",
              "          docLink.innerHTML = docLinkHtml;\n",
              "          element.appendChild(docLink);\n",
              "        }\n",
              "      </script>\n",
              "    </div>\n",
              "  </div>\n",
              "  "
            ]
          },
          "metadata": {},
          "execution_count": 11
        }
      ]
    },
    {
      "cell_type": "code",
      "source": [
        "df.tail()"
      ],
      "metadata": {
        "colab": {
          "base_uri": "https://localhost:8080/",
          "height": 270
        },
        "id": "L9-LHjBDxbx_",
        "outputId": "74aaf9ff-edc5-458a-eb33-a1c933e0ca6d"
      },
      "execution_count": null,
      "outputs": [
        {
          "output_type": "execute_result",
          "data": {
            "text/plain": [
              "    sample_id patient_cohort sample_origin  age sex  diagnosis stage  \\\n",
              "585      S549        Cohort2          BPTB   68   M          3    IV   \n",
              "586      S558        Cohort2          BPTB   71   F          3    IV   \n",
              "587      S560        Cohort2          BPTB   63   M          3    IV   \n",
              "588      S583        Cohort2          BPTB   75   F          3    IV   \n",
              "589      S590        Cohort1          BPTB   74   M          3    IV   \n",
              "\n",
              "    benign_sample_diagnosis  plasma_CA19_9  creatinine     LYVE1       REG1B  \\\n",
              "585                     NaN            NaN     0.52026  7.058209  156.241000   \n",
              "586                     NaN            NaN     0.85956  8.341207   16.915000   \n",
              "587                     NaN            NaN     1.36851  7.674707  289.701000   \n",
              "588                     NaN            NaN     1.33458  8.206777  205.930000   \n",
              "589                     NaN         1488.0     1.50423  8.200958  411.938275   \n",
              "\n",
              "            TFF1    REG1A  \n",
              "585   525.178000      NaN  \n",
              "586   245.947000      NaN  \n",
              "587   537.286000      NaN  \n",
              "588   722.523000      NaN  \n",
              "589  2021.321078  13200.0  "
            ],
            "text/html": [
              "\n",
              "  <div id=\"df-03430209-3f81-4028-910f-e3e45f2f9984\">\n",
              "    <div class=\"colab-df-container\">\n",
              "      <div>\n",
              "<style scoped>\n",
              "    .dataframe tbody tr th:only-of-type {\n",
              "        vertical-align: middle;\n",
              "    }\n",
              "\n",
              "    .dataframe tbody tr th {\n",
              "        vertical-align: top;\n",
              "    }\n",
              "\n",
              "    .dataframe thead th {\n",
              "        text-align: right;\n",
              "    }\n",
              "</style>\n",
              "<table border=\"1\" class=\"dataframe\">\n",
              "  <thead>\n",
              "    <tr style=\"text-align: right;\">\n",
              "      <th></th>\n",
              "      <th>sample_id</th>\n",
              "      <th>patient_cohort</th>\n",
              "      <th>sample_origin</th>\n",
              "      <th>age</th>\n",
              "      <th>sex</th>\n",
              "      <th>diagnosis</th>\n",
              "      <th>stage</th>\n",
              "      <th>benign_sample_diagnosis</th>\n",
              "      <th>plasma_CA19_9</th>\n",
              "      <th>creatinine</th>\n",
              "      <th>LYVE1</th>\n",
              "      <th>REG1B</th>\n",
              "      <th>TFF1</th>\n",
              "      <th>REG1A</th>\n",
              "    </tr>\n",
              "  </thead>\n",
              "  <tbody>\n",
              "    <tr>\n",
              "      <th>585</th>\n",
              "      <td>S549</td>\n",
              "      <td>Cohort2</td>\n",
              "      <td>BPTB</td>\n",
              "      <td>68</td>\n",
              "      <td>M</td>\n",
              "      <td>3</td>\n",
              "      <td>IV</td>\n",
              "      <td>NaN</td>\n",
              "      <td>NaN</td>\n",
              "      <td>0.52026</td>\n",
              "      <td>7.058209</td>\n",
              "      <td>156.241000</td>\n",
              "      <td>525.178000</td>\n",
              "      <td>NaN</td>\n",
              "    </tr>\n",
              "    <tr>\n",
              "      <th>586</th>\n",
              "      <td>S558</td>\n",
              "      <td>Cohort2</td>\n",
              "      <td>BPTB</td>\n",
              "      <td>71</td>\n",
              "      <td>F</td>\n",
              "      <td>3</td>\n",
              "      <td>IV</td>\n",
              "      <td>NaN</td>\n",
              "      <td>NaN</td>\n",
              "      <td>0.85956</td>\n",
              "      <td>8.341207</td>\n",
              "      <td>16.915000</td>\n",
              "      <td>245.947000</td>\n",
              "      <td>NaN</td>\n",
              "    </tr>\n",
              "    <tr>\n",
              "      <th>587</th>\n",
              "      <td>S560</td>\n",
              "      <td>Cohort2</td>\n",
              "      <td>BPTB</td>\n",
              "      <td>63</td>\n",
              "      <td>M</td>\n",
              "      <td>3</td>\n",
              "      <td>IV</td>\n",
              "      <td>NaN</td>\n",
              "      <td>NaN</td>\n",
              "      <td>1.36851</td>\n",
              "      <td>7.674707</td>\n",
              "      <td>289.701000</td>\n",
              "      <td>537.286000</td>\n",
              "      <td>NaN</td>\n",
              "    </tr>\n",
              "    <tr>\n",
              "      <th>588</th>\n",
              "      <td>S583</td>\n",
              "      <td>Cohort2</td>\n",
              "      <td>BPTB</td>\n",
              "      <td>75</td>\n",
              "      <td>F</td>\n",
              "      <td>3</td>\n",
              "      <td>IV</td>\n",
              "      <td>NaN</td>\n",
              "      <td>NaN</td>\n",
              "      <td>1.33458</td>\n",
              "      <td>8.206777</td>\n",
              "      <td>205.930000</td>\n",
              "      <td>722.523000</td>\n",
              "      <td>NaN</td>\n",
              "    </tr>\n",
              "    <tr>\n",
              "      <th>589</th>\n",
              "      <td>S590</td>\n",
              "      <td>Cohort1</td>\n",
              "      <td>BPTB</td>\n",
              "      <td>74</td>\n",
              "      <td>M</td>\n",
              "      <td>3</td>\n",
              "      <td>IV</td>\n",
              "      <td>NaN</td>\n",
              "      <td>1488.0</td>\n",
              "      <td>1.50423</td>\n",
              "      <td>8.200958</td>\n",
              "      <td>411.938275</td>\n",
              "      <td>2021.321078</td>\n",
              "      <td>13200.0</td>\n",
              "    </tr>\n",
              "  </tbody>\n",
              "</table>\n",
              "</div>\n",
              "      <button class=\"colab-df-convert\" onclick=\"convertToInteractive('df-03430209-3f81-4028-910f-e3e45f2f9984')\"\n",
              "              title=\"Convert this dataframe to an interactive table.\"\n",
              "              style=\"display:none;\">\n",
              "        \n",
              "  <svg xmlns=\"http://www.w3.org/2000/svg\" height=\"24px\"viewBox=\"0 0 24 24\"\n",
              "       width=\"24px\">\n",
              "    <path d=\"M0 0h24v24H0V0z\" fill=\"none\"/>\n",
              "    <path d=\"M18.56 5.44l.94 2.06.94-2.06 2.06-.94-2.06-.94-.94-2.06-.94 2.06-2.06.94zm-11 1L8.5 8.5l.94-2.06 2.06-.94-2.06-.94L8.5 2.5l-.94 2.06-2.06.94zm10 10l.94 2.06.94-2.06 2.06-.94-2.06-.94-.94-2.06-.94 2.06-2.06.94z\"/><path d=\"M17.41 7.96l-1.37-1.37c-.4-.4-.92-.59-1.43-.59-.52 0-1.04.2-1.43.59L10.3 9.45l-7.72 7.72c-.78.78-.78 2.05 0 2.83L4 21.41c.39.39.9.59 1.41.59.51 0 1.02-.2 1.41-.59l7.78-7.78 2.81-2.81c.8-.78.8-2.07 0-2.86zM5.41 20L4 18.59l7.72-7.72 1.47 1.35L5.41 20z\"/>\n",
              "  </svg>\n",
              "      </button>\n",
              "      \n",
              "  <style>\n",
              "    .colab-df-container {\n",
              "      display:flex;\n",
              "      flex-wrap:wrap;\n",
              "      gap: 12px;\n",
              "    }\n",
              "\n",
              "    .colab-df-convert {\n",
              "      background-color: #E8F0FE;\n",
              "      border: none;\n",
              "      border-radius: 50%;\n",
              "      cursor: pointer;\n",
              "      display: none;\n",
              "      fill: #1967D2;\n",
              "      height: 32px;\n",
              "      padding: 0 0 0 0;\n",
              "      width: 32px;\n",
              "    }\n",
              "\n",
              "    .colab-df-convert:hover {\n",
              "      background-color: #E2EBFA;\n",
              "      box-shadow: 0px 1px 2px rgba(60, 64, 67, 0.3), 0px 1px 3px 1px rgba(60, 64, 67, 0.15);\n",
              "      fill: #174EA6;\n",
              "    }\n",
              "\n",
              "    [theme=dark] .colab-df-convert {\n",
              "      background-color: #3B4455;\n",
              "      fill: #D2E3FC;\n",
              "    }\n",
              "\n",
              "    [theme=dark] .colab-df-convert:hover {\n",
              "      background-color: #434B5C;\n",
              "      box-shadow: 0px 1px 3px 1px rgba(0, 0, 0, 0.15);\n",
              "      filter: drop-shadow(0px 1px 2px rgba(0, 0, 0, 0.3));\n",
              "      fill: #FFFFFF;\n",
              "    }\n",
              "  </style>\n",
              "\n",
              "      <script>\n",
              "        const buttonEl =\n",
              "          document.querySelector('#df-03430209-3f81-4028-910f-e3e45f2f9984 button.colab-df-convert');\n",
              "        buttonEl.style.display =\n",
              "          google.colab.kernel.accessAllowed ? 'block' : 'none';\n",
              "\n",
              "        async function convertToInteractive(key) {\n",
              "          const element = document.querySelector('#df-03430209-3f81-4028-910f-e3e45f2f9984');\n",
              "          const dataTable =\n",
              "            await google.colab.kernel.invokeFunction('convertToInteractive',\n",
              "                                                     [key], {});\n",
              "          if (!dataTable) return;\n",
              "\n",
              "          const docLinkHtml = 'Like what you see? Visit the ' +\n",
              "            '<a target=\"_blank\" href=https://colab.research.google.com/notebooks/data_table.ipynb>data table notebook</a>'\n",
              "            + ' to learn more about interactive tables.';\n",
              "          element.innerHTML = '';\n",
              "          dataTable['output_type'] = 'display_data';\n",
              "          await google.colab.output.renderOutput(dataTable, element);\n",
              "          const docLink = document.createElement('div');\n",
              "          docLink.innerHTML = docLinkHtml;\n",
              "          element.appendChild(docLink);\n",
              "        }\n",
              "      </script>\n",
              "    </div>\n",
              "  </div>\n",
              "  "
            ]
          },
          "metadata": {},
          "execution_count": 12
        }
      ]
    },
    {
      "cell_type": "code",
      "source": [
        "import numpy as np\n",
        "import matplotlib.pyplot as plt\n"
      ],
      "metadata": {
        "id": "6sBC04YXxqJI"
      },
      "execution_count": null,
      "outputs": []
    },
    {
      "cell_type": "code",
      "source": [
        "df.shape"
      ],
      "metadata": {
        "colab": {
          "base_uri": "https://localhost:8080/"
        },
        "id": "xEjQN9k_yEa6",
        "outputId": "651f3201-ff48-48bc-e66a-1a16de583697"
      },
      "execution_count": null,
      "outputs": [
        {
          "output_type": "execute_result",
          "data": {
            "text/plain": [
              "(590, 14)"
            ]
          },
          "metadata": {},
          "execution_count": 14
        }
      ]
    },
    {
      "cell_type": "code",
      "source": [
        "df.info()"
      ],
      "metadata": {
        "colab": {
          "base_uri": "https://localhost:8080/"
        },
        "id": "xT8wdMo3zJnQ",
        "outputId": "b012469b-9935-42f5-d097-1111fffaec6d"
      },
      "execution_count": null,
      "outputs": [
        {
          "output_type": "stream",
          "name": "stdout",
          "text": [
            "<class 'pandas.core.frame.DataFrame'>\n",
            "RangeIndex: 590 entries, 0 to 589\n",
            "Data columns (total 14 columns):\n",
            " #   Column                   Non-Null Count  Dtype  \n",
            "---  ------                   --------------  -----  \n",
            " 0   sample_id                590 non-null    object \n",
            " 1   patient_cohort           590 non-null    object \n",
            " 2   sample_origin            590 non-null    object \n",
            " 3   age                      590 non-null    int64  \n",
            " 4   sex                      590 non-null    object \n",
            " 5   diagnosis                590 non-null    int64  \n",
            " 6   stage                    199 non-null    object \n",
            " 7   benign_sample_diagnosis  208 non-null    object \n",
            " 8   plasma_CA19_9            350 non-null    float64\n",
            " 9   creatinine               590 non-null    float64\n",
            " 10  LYVE1                    590 non-null    float64\n",
            " 11  REG1B                    590 non-null    float64\n",
            " 12  TFF1                     590 non-null    float64\n",
            " 13  REG1A                    306 non-null    float64\n",
            "dtypes: float64(6), int64(2), object(6)\n",
            "memory usage: 64.7+ KB\n"
          ]
        }
      ]
    },
    {
      "cell_type": "code",
      "source": [
        "import seaborn as sns\n",
        "sns.pairplot(df,x_vars=['age','plasma_CA19_9','creatinine'], y_vars='TFF1', size=4, aspect=1, kind='scatter' )\n",
        "plt.show() "
      ],
      "metadata": {
        "colab": {
          "base_uri": "https://localhost:8080/",
          "height": 358
        },
        "id": "vrywAqtsyfVi",
        "outputId": "e5f7eb06-7ad3-49e3-f26f-34c89c406aa2"
      },
      "execution_count": null,
      "outputs": [
        {
          "output_type": "stream",
          "name": "stderr",
          "text": [
            "/usr/local/lib/python3.9/dist-packages/seaborn/axisgrid.py:2095: UserWarning: The `size` parameter has been renamed to `height`; please update your code.\n",
            "  warnings.warn(msg, UserWarning)\n"
          ]
        },
        {
          "output_type": "display_data",
          "data": {
            "text/plain": [
              "<Figure size 864x288 with 3 Axes>"
            ],
            "image/png": "[encoded data removed]"
          },
          "metadata": {
            "needs_background": "light"
          }
        }
      ]
    },
    {
      "cell_type": "code",
      "source": [
        "import seaborn as sns\n",
        "sns.pairplot(df,x_vars=['age','plasma_CA19_9','creatinine'], y_vars='TFF1', size=4, aspect=2, kind='scatter' )\n",
        "plt.show() "
      ],
      "metadata": {
        "colab": {
          "base_uri": "https://localhost:8080/",
          "height": 229
        },
        "id": "dX6eMJLD1Np8",
        "outputId": "9897b15f-11a1-4847-c66d-14bfac200053"
      },
      "execution_count": null,
      "outputs": [
        {
          "output_type": "stream",
          "name": "stderr",
          "text": [
            "/usr/local/lib/python3.9/dist-packages/seaborn/axisgrid.py:2095: UserWarning: The `size` parameter has been renamed to `height`; please update your code.\n",
            "  warnings.warn(msg, UserWarning)\n"
          ]
        },
        {
          "output_type": "display_data",
          "data": {
            "text/plain": [
              "<Figure size 1728x288 with 3 Axes>"
            ],
            "image/png": "[encoded data removed]"
          },
          "metadata": {
            "needs_background": "light"
          }
        }
      ]
    },
    {
      "cell_type": "code",
      "source": [
        "sns.heatmap(df.corr(),cmap=\"YlGnBu\",annot=True)\n",
        "plt.show()"
      ],
      "metadata": {
        "colab": {
          "base_uri": "https://localhost:8080/",
          "height": 338
        },
        "id": "nhcxzUM-20IO",
        "outputId": "11344997-58d0-437d-e102-0d7cb915f31c"
      },
      "execution_count": null,
      "outputs": [
        {
          "output_type": "display_data",
          "data": {
            "text/plain": [
              "<Figure size 432x288 with 2 Axes>"
            ],
            "image/png": "[encoded data removed]"
          },
          "metadata": {
            "needs_background": "light"
          }
        }
      ]
    },
    {
      "cell_type": "code",
      "source": [
        "sns.heatmap(df.corr(),cmap=\"YlGnBu\",annot=False)\n",
        "plt.show()"
      ],
      "metadata": {
        "colab": {
          "base_uri": "https://localhost:8080/",
          "height": 338
        },
        "id": "RtRWNymU5AUU",
        "outputId": "196c0c4a-0652-4165-e46b-e4d9c24dd2c4"
      },
      "execution_count": null,
      "outputs": [
        {
          "output_type": "display_data",
          "data": {
            "text/plain": [
              "<Figure size 432x288 with 2 Axes>"
            ],
            "image/png": "[encoded data removed]"
          },
          "metadata": {
            "needs_background": "light"
          }
        }
      ]
    },
    {
      "cell_type": "code",
      "source": [
        "x=df['age']\n",
        "y=df['creatinine']"
      ],
      "metadata": {
        "id": "XCABQwUf5HKU"
      },
      "execution_count": null,
      "outputs": []
    },
    {
      "cell_type": "code",
      "source": [
        "from sklearn.model_selection import train_test_split\n",
        "x_train, x_test, y_train, y_test =train_test_split(x,y,train_size=0.7, test_size=0.3, random_state=100)"
      ],
      "metadata": {
        "id": "KtQavwaB6KbF"
      },
      "execution_count": null,
      "outputs": []
    },
    {
      "cell_type": "code",
      "source": [
        "y_train.head()"
      ],
      "metadata": {
        "colab": {
          "base_uri": "https://localhost:8080/"
        },
        "id": "oswcy86j8Aeb",
        "outputId": "0f7e4b3d-d991-4cb6-ad25-6bbddbe72b77"
      },
      "execution_count": null,
      "outputs": [
        {
          "output_type": "execute_result",
          "data": {
            "text/plain": [
              "335    128.005\n",
              "43         NaN\n",
              "320     38.770\n",
              "47         NaN\n",
              "203        NaN\n",
              "Name: REG1A, dtype: float64"
            ]
          },
          "metadata": {},
          "execution_count": 52
        }
      ]
    },
    {
      "cell_type": "code",
      "source": [
        "x_train.head()"
      ],
      "metadata": {
        "colab": {
          "base_uri": "https://localhost:8080/"
        },
        "id": "_eQCqKKB7nyG",
        "outputId": "f831ec0e-b1c1-416e-8bec-8468b8e0f9a8"
      },
      "execution_count": null,
      "outputs": [
        {
          "output_type": "execute_result",
          "data": {
            "text/plain": [
              "335    71\n",
              "43     89\n",
              "320    66\n",
              "47     59\n",
              "203    78\n",
              "Name: age, dtype: int64"
            ]
          },
          "metadata": {},
          "execution_count": 54
        }
      ]
    },
    {
      "cell_type": "code",
      "source": [
        "df.dtypes"
      ],
      "metadata": {
        "colab": {
          "base_uri": "https://localhost:8080/"
        },
        "id": "incE2fpN8fyJ",
        "outputId": "5a439cd7-36d0-45ff-bb90-21ae92dc8c62"
      },
      "execution_count": null,
      "outputs": [
        {
          "output_type": "execute_result",
          "data": {
            "text/plain": [
              "sample_id                   object\n",
              "patient_cohort              object\n",
              "sample_origin               object\n",
              "age                          int64\n",
              "sex                         object\n",
              "diagnosis                    int64\n",
              "stage                       object\n",
              "benign_sample_diagnosis     object\n",
              "plasma_CA19_9              float64\n",
              "creatinine                 float64\n",
              "LYVE1                      float64\n",
              "REG1B                      float64\n",
              "TFF1                       float64\n",
              "REG1A                      float64\n",
              "dtype: object"
            ]
          },
          "metadata": {},
          "execution_count": 55
        }
      ]
    },
    {
      "cell_type": "code",
      "source": [
        "import statsmodels.api as sm"
      ],
      "metadata": {
        "id": "6d85YyCcC94R"
      },
      "execution_count": null,
      "outputs": []
    },
    {
      "cell_type": "code",
      "source": [
        "from sklearn.linear_model import LinearRegression\n",
        "lm = LinearRegression()\n",
        "lm\n"
      ],
      "metadata": {
        "colab": {
          "base_uri": "https://localhost:8080/",
          "height": 74
        },
        "id": "sLKNnhJj8r_6",
        "outputId": "a8b74aae-80e3-4980-9ddf-4caebad4aae6"
      },
      "execution_count": null,
      "outputs": [
        {
          "output_type": "execute_result",
          "data": {
            "text/plain": [
              "LinearRegression()"
            ],
            "text/html": [
              "<style>#sk-container-id-2 {color: black;background-color: white;}#sk-container-id-2 pre{padding: 0;}#sk-container-id-2 div.sk-toggleable {background-color: white;}#sk-container-id-2 label.sk-toggleable__label {cursor: pointer;display: block;width: 100%;margin-bottom: 0;padding: 0.3em;box-sizing: border-box;text-align: center;}#sk-container-id-2 label.sk-toggleable__label-arrow:before {content: \"▸\";float: left;margin-right: 0.25em;color: #696969;}#sk-container-id-2 label.sk-toggleable__label-arrow:hover:before {color: black;}#sk-container-id-2 div.sk-estimator:hover label.sk-toggleable__label-arrow:before {color: black;}#sk-container-id-2 div.sk-toggleable__content {max-height: 0;max-width: 0;overflow: hidden;text-align: left;background-color: #f0f8ff;}#sk-container-id-2 div.sk-toggleable__content pre {margin: 0.2em;color: black;border-radius: 0.25em;background-color: #f0f8ff;}#sk-container-id-2 input.sk-toggleable__control:checked~div.sk-toggleable__content {max-height: 200px;max-width: 100%;overflow: auto;}#sk-container-id-2 input.sk-toggleable__control:checked~label.sk-toggleable__label-arrow:before {content: \"▾\";}#sk-container-id-2 div.sk-estimator input.sk-toggleable__control:checked~label.sk-toggleable__label {background-color: #d4ebff;}#sk-container-id-2 div.sk-label input.sk-toggleable__control:checked~label.sk-toggleable__label {background-color: #d4ebff;}#sk-container-id-2 input.sk-hidden--visually {border: 0;clip: rect(1px 1px 1px 1px);clip: rect(1px, 1px, 1px, 1px);height: 1px;margin: -1px;overflow: hidden;padding: 0;position: absolute;width: 1px;}#sk-container-id-2 div.sk-estimator {font-family: monospace;background-color: #f0f8ff;border: 1px dotted black;border-radius: 0.25em;box-sizing: border-box;margin-bottom: 0.5em;}#sk-container-id-2 div.sk-estimator:hover {background-color: #d4ebff;}#sk-container-id-2 div.sk-parallel-item::after {content: \"\";width: 100%;border-bottom: 1px solid gray;flex-grow: 1;}#sk-container-id-2 div.sk-label:hover label.sk-toggleable__label {background-color: #d4ebff;}#sk-container-id-2 div.sk-serial::before {content: \"\";position: absolute;border-left: 1px solid gray;box-sizing: border-box;top: 0;bottom: 0;left: 50%;z-index: 0;}#sk-container-id-2 div.sk-serial {display: flex;flex-direction: column;align-items: center;background-color: white;padding-right: 0.2em;padding-left: 0.2em;position: relative;}#sk-container-id-2 div.sk-item {position: relative;z-index: 1;}#sk-container-id-2 div.sk-parallel {display: flex;align-items: stretch;justify-content: center;background-color: white;position: relative;}#sk-container-id-2 div.sk-item::before, #sk-container-id-2 div.sk-parallel-item::before {content: \"\";position: absolute;border-left: 1px solid gray;box-sizing: border-box;top: 0;bottom: 0;left: 50%;z-index: -1;}#sk-container-id-2 div.sk-parallel-item {display: flex;flex-direction: column;z-index: 1;position: relative;background-color: white;}#sk-container-id-2 div.sk-parallel-item:first-child::after {align-self: flex-end;width: 50%;}#sk-container-id-2 div.sk-parallel-item:last-child::after {align-self: flex-start;width: 50%;}#sk-container-id-2 div.sk-parallel-item:only-child::after {width: 0;}#sk-container-id-2 div.sk-dashed-wrapped {border: 1px dashed gray;margin: 0 0.4em 0.5em 0.4em;box-sizing: border-box;padding-bottom: 0.4em;background-color: white;}#sk-container-id-2 div.sk-label label {font-family: monospace;font-weight: bold;display: inline-block;line-height: 1.2em;}#sk-container-id-2 div.sk-label-container {text-align: center;}#sk-container-id-2 div.sk-container {/* jupyter's `normalize.less` sets `[hidden] { display: none; }` but bootstrap.min.css set `[hidden] { display: none !important; }` so we also need the `!important` here to be able to override the default hidden behavior on the sphinx rendered scikit-learn.org. See: https://github.com/scikit-learn/scikit-learn/issues/21755 */display: inline-block !important;position: relative;}#sk-container-id-2 div.sk-text-repr-fallback {display: none;}</style><div id=\"sk-container-id-2\" class=\"sk-top-container\"><div class=\"sk-text-repr-fallback\"><pre>LinearRegression()</pre><b>In a Jupyter environment, please rerun this cell to show the HTML representation or trust the notebook. <br />On GitHub, the HTML representation is unable to render, please try loading this page with nbviewer.org.</b></div><div class=\"sk-container\" hidden><div class=\"sk-item\"><div class=\"sk-estimator sk-toggleable\"><input class=\"sk-toggleable__control sk-hidden--visually\" id=\"sk-estimator-id-2\" type=\"checkbox\" checked><label for=\"sk-estimator-id-2\" class=\"sk-toggleable__label sk-toggleable__label-arrow\">LinearRegression</label><div class=\"sk-toggleable__content\"><pre>LinearRegression()</pre></div></div></div></div></div>"
            ]
          },
          "metadata": {},
          "execution_count": 57
        }
      ]
    },
    {
      "cell_type": "code",
      "source": [
        "#Add a constant to get an intercept\n",
        "x_train_sm = sm.add_constant(x_train)\n",
        "\n",
        "#Fit the regression Line using OLS\n",
        "lm= sm.OLS(y_train, x_train_sm).fit()\n"
      ],
      "metadata": {
        "id": "RyYNY9X2CHNe"
      },
      "execution_count": null,
      "outputs": []
    },
    {
      "cell_type": "code",
      "source": [
        "x_train.head"
      ],
      "metadata": {
        "colab": {
          "base_uri": "https://localhost:8080/"
        },
        "id": "DFW0RXLYD0HC",
        "outputId": "37312ddb-df76-4aaa-e2d4-7cf8fde7023f"
      },
      "execution_count": null,
      "outputs": [
        {
          "output_type": "execute_result",
          "data": {
            "text/plain": [
              "<bound method NDFrame.head of 335    71\n",
              "43     89\n",
              "320    66\n",
              "47     59\n",
              "203    78\n",
              "       ..\n",
              "578    78\n",
              "53     59\n",
              "350    32\n",
              "79     63\n",
              "520    63\n",
              "Name: age, Length: 413, dtype: int64>"
            ]
          },
          "metadata": {},
          "execution_count": 59
        }
      ]
    },
    {
      "cell_type": "code",
      "source": [
        "lm.params"
      ],
      "metadata": {
        "colab": {
          "base_uri": "https://localhost:8080/"
        },
        "id": "XnHGra9iEKol",
        "outputId": "279bce54-b925-4d95-8e38-c13ce1461eeb"
      },
      "execution_count": null,
      "outputs": [
        {
          "output_type": "execute_result",
          "data": {
            "text/plain": [
              "const    1.048372\n",
              "age     -0.003026\n",
              "dtype: float64"
            ]
          },
          "metadata": {},
          "execution_count": 60
        }
      ]
    },
    {
      "cell_type": "code",
      "source": [
        "print(lm.summary())"
      ],
      "metadata": {
        "colab": {
          "base_uri": "https://localhost:8080/"
        },
        "id": "nyqGnJ3cEwPg",
        "outputId": "436d3e6b-7907-4726-9a02-22f065128ae7"
      },
      "execution_count": null,
      "outputs": [
        {
          "output_type": "stream",
          "name": "stdout",
          "text": [
            "                            OLS Regression Results                            \n",
            "==============================================================================\n",
            "Dep. Variable:             creatinine   R-squared:                       0.004\n",
            "Model:                            OLS   Adj. R-squared:                  0.001\n",
            "Method:                 Least Squares   F-statistic:                     1.589\n",
            "Date:                Fri, 24 Mar 2023   Prob (F-statistic):              0.208\n",
            "Time:                        14:46:34   Log-Likelihood:                -392.51\n",
            "No. Observations:                 413   AIC:                             789.0\n",
            "Df Residuals:                     411   BIC:                             797.1\n",
            "Df Model:                           1                                         \n",
            "Covariance Type:            nonrobust                                         \n",
            "==============================================================================\n",
            "                 coef    std err          t      P>|t|      [0.025      0.975]\n",
            "------------------------------------------------------------------------------\n",
            "const          1.0484      0.146      7.189      0.000       0.762       1.335\n",
            "age           -0.0030      0.002     -1.260      0.208      -0.008       0.002\n",
            "==============================================================================\n",
            "Omnibus:                       93.345   Durbin-Watson:                   2.149\n",
            "Prob(Omnibus):                  0.000   Jarque-Bera (JB):              168.684\n",
            "Skew:                           1.279   Prob(JB):                     2.35e-37\n",
            "Kurtosis:                       4.805   Cond. No.                         287.\n",
            "==============================================================================\n",
            "\n",
            "Notes:\n",
            "[1] Standard Errors assume that the covariance matrix of the errors is correctly specified.\n"
          ]
        }
      ]
    }
  ]
}